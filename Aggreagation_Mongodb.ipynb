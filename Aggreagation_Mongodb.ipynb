{
 "cells": [
  {
   "cell_type": "code",
   "execution_count": 1,
   "id": "cb3dbe95",
   "metadata": {},
   "outputs": [
    {
     "name": "stdout",
     "output_type": "stream",
     "text": [
      "Requirement already satisfied: pymongo in c:\\users\\kakut\\anaconda\\lib\\site-packages (3.12.0)\n"
     ]
    }
   ],
   "source": [
    "!pip install pymongo"
   ]
  },
  {
   "cell_type": "code",
   "execution_count": 2,
   "id": "f2537d81",
   "metadata": {},
   "outputs": [
    {
     "name": "stdout",
     "output_type": "stream",
     "text": [
      "[Collection(Database(MongoClient(host=['localhost:27017'], document_class=dict, tz_aware=False, connect=True), 'Flight_Delay_Analysis'), '1987'), Collection(Database(MongoClient(host=['localhost:27017'], document_class=dict, tz_aware=False, connect=True), 'Flight_Delay_Analysis'), '1988'), Collection(Database(MongoClient(host=['localhost:27017'], document_class=dict, tz_aware=False, connect=True), 'Flight_Delay_Analysis'), '1989'), Collection(Database(MongoClient(host=['localhost:27017'], document_class=dict, tz_aware=False, connect=True), 'Flight_Delay_Analysis'), '1990'), Collection(Database(MongoClient(host=['localhost:27017'], document_class=dict, tz_aware=False, connect=True), 'Flight_Delay_Analysis'), '1991'), Collection(Database(MongoClient(host=['localhost:27017'], document_class=dict, tz_aware=False, connect=True), 'Flight_Delay_Analysis'), '1992'), Collection(Database(MongoClient(host=['localhost:27017'], document_class=dict, tz_aware=False, connect=True), 'Flight_Delay_Analysis'), '1993'), Collection(Database(MongoClient(host=['localhost:27017'], document_class=dict, tz_aware=False, connect=True), 'Flight_Delay_Analysis'), '1994'), Collection(Database(MongoClient(host=['localhost:27017'], document_class=dict, tz_aware=False, connect=True), 'Flight_Delay_Analysis'), '1995'), Collection(Database(MongoClient(host=['localhost:27017'], document_class=dict, tz_aware=False, connect=True), 'Flight_Delay_Analysis'), '1996'), Collection(Database(MongoClient(host=['localhost:27017'], document_class=dict, tz_aware=False, connect=True), 'Flight_Delay_Analysis'), '1997'), Collection(Database(MongoClient(host=['localhost:27017'], document_class=dict, tz_aware=False, connect=True), 'Flight_Delay_Analysis'), '1998')]\n"
     ]
    }
   ],
   "source": [
    "import pymongo\n",
    "\n",
    "# Create a MongoDB client\n",
    "client = pymongo.MongoClient()\n",
    "\n",
    "# Select the database and collections to be used\n",
    "db = client[\"Flight_Delay_Analysis\"]\n",
    "collections = [db[str(year)] for year in range(1987, 1999)]\n",
    "\n",
    "\n",
    "print(collections)"
   ]
  },
  {
   "cell_type": "code",
   "execution_count": 3,
   "id": "88e33767",
   "metadata": {},
   "outputs": [],
   "source": [
    "# Specify the airports to filter\n",
    "airports = [\"IAD\", \"ORD\", \"LAS\", \"BWI\", \"SLC\", \"BNA\", \"JFK\", \"SEA\", \"CVG\", \"BOS\", \"HOU\", \"DTW\", \"DEN\", \"ORL\", \"PIT\", \"MIA\", \"LAX\",'SYR',\"LGA\"]\n",
    "\n",
    "# Create a new collection to store the aggregated data\n",
    "agg_col = db[\"aggregated_columns\"]\n",
    "\n",
    "# Loop over the collections and perform the aggregation\n",
    "for collection in collections:\n",
    "    pipeline = [\n",
    "        {\n",
    "            \"$match\": {\n",
    "                \"$or\": [\n",
    "                    {\"Origin\": {\"$in\": airports}},\n",
    "                    {\"Dest\": {\"$in\": airports}}\n",
    "                ]\n",
    "            }\n",
    "        },\n",
    "        {\n",
    "            \"$project\": {\n",
    "                \"_id\": 1,\n",
    "                \"Year\": 1,\n",
    "                \"Month\": 1,\n",
    "                \"DayofMonth\": 1,\n",
    "                \"DayOfWeek\": 1,\n",
    "                \"DepTime\": 1,\n",
    "                \"CRSDepTime\": 1,\n",
    "                \"ArrTime\": 1,\n",
    "                \"CRSArrTime\": 1,\n",
    "                \"UniqueCarrier\": 1,\n",
    "                \"FlightNum\": 1,\n",
    "                \"TailNum\": 1,\n",
    "                \"ActualElapsedTime\": 1,\n",
    "                \"CRSElapsedTime\": 1,\n",
    "                \"AirTime\": 1,\n",
    "                \"ArrDelay\": 1,\n",
    "                \"DepDelay\": 1,\n",
    "                \"Origin\": 1,\n",
    "                \"Dest\": 1,\n",
    "                \"Distance\": 1,\n",
    "                \"TaxiIn\": 1,\n",
    "                \"TaxiOut\": 1,\n",
    "                \"Cancelled\": 1,\n",
    "                \"Diverted\": 1,\n",
    "                \"CarrierDelay\": 1,\n",
    "                \"WeatherDelay\": 1,\n",
    "                \"NASDelay\": 1,\n",
    "                \"SecurityDelay\": 1,\n",
    "                \"LateAircraftDelay\": 1\n",
    "            }\n",
    "        },\n",
    "        {\n",
    "            \"$out\": \"temp\"\n",
    "        }\n",
    "    ]\n",
    "    collection.aggregate(pipeline)\n",
    "    agg_col.insert_many(db[\"temp\"].find())\n",
    "    db[\"temp\"].drop()\n",
    "\n"
   ]
  },
  {
   "cell_type": "code",
   "execution_count": null,
   "id": "742cd6a3",
   "metadata": {},
   "outputs": [],
   "source": []
  },
  {
   "cell_type": "code",
   "execution_count": null,
   "id": "b89d5038",
   "metadata": {},
   "outputs": [],
   "source": [
    " "
   ]
  }
 ],
 "metadata": {
  "kernelspec": {
   "display_name": "Python 3 (ipykernel)",
   "language": "python",
   "name": "python3"
  },
  "language_info": {
   "codemirror_mode": {
    "name": "ipython",
    "version": 3
   },
   "file_extension": ".py",
   "mimetype": "text/x-python",
   "name": "python",
   "nbconvert_exporter": "python",
   "pygments_lexer": "ipython3",
   "version": "3.9.12"
  }
 },
 "nbformat": 4,
 "nbformat_minor": 5
}
